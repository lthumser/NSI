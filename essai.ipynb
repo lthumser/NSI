print("ceci est un essai")
print(2*3)
