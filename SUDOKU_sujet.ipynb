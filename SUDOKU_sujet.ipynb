{
 "cells": [
  {
   "cell_type": "markdown",
   "metadata": {},
   "source": [
    "<div class=titre1 >SUDOKU</div>\n",
    "\n",
    "<div style=display:flex >\n",
    "<img title=\"Maki Kaji, qui a polularisé le Sudoku\" src=https://img.20mn.fr/BTEPUn9lSwygIjEw15mLJSk/768x492_maki-kaji-devant-grilles-sudoku-2012.jpg style=\"height:246px\" />\n",
    "    <img title=\"Leonhard Euler\" src=\"https://upload.wikimedia.org/wikipedia/commons/6/60/Leonhard_Euler_2.jpg\"  style=\"height:246px\" >\n",
    "    <img title=\"SATOR\" src=https://upload.wikimedia.org/wikipedia/commons/thumb/7/71/Sator_Square_at_Opp%C3%A8de.jpg/330px-Sator_Square_at_Opp%C3%A8de.jpg  style=\"height:246px\" >\n",
    "    </div>"
   ]
  },
  {
   "cell_type": "markdown",
   "metadata": {},
   "source": [
    "Le Sudoku (chiffre simple en japonais) a été popularisé par le japonais Maki Kaji et s'inspire du «carré latin» du mathématicien du 18<sup>e</sup> siècle Leonhard Euler, où les symboles n'apparaissent qu'une fois par ligne et par colonne.\n",
    "On peut supposer qu'Euler a été inspiré par l'énigme du carré latin SATOR.\n",
    "\n",
    "\n",
    "<div style=\"display:flex; \"><span><br><br><span class=encadre style=\"width:400px;\"><u>Règle du SUDOKU :</u><br/><br/>Le joueur doit trouver par déduction les chiffres manquants (toujours de un à neuf) en se basant sur le principe qu'aucun ne doit se répéter dans la même ligne, colonne ou bloc (petit carré).</span></span><img src=data:image/svg+xml;base64,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 /></div>"
   ]
  },
  {
   "cell_type": "markdown",
   "metadata": {},
   "source": [
    "<div class=titre2 >Vérifier un SUDOKU</div>"
   ]
  },
  {
   "cell_type": "markdown",
   "metadata": {},
   "source": [
    "Une grille de Sudoku peut s'écrire sous forme de matrice, par exemple voici 4 grilles de Sudoku terminés :"
   ]
  },
  {
   "cell_type": "code",
   "execution_count": 1,
   "metadata": {},
   "outputs": [],
   "source": [
    "G1=[[8,9,1,2,3,4,6,7,5],[3,2,5,6,8,7,4,1,9],[4,7,6,9,1,5,3,2,8],[9,1,4,7,5,2,8,6,3],[2,5,7,3,6,8,1,9,5],[6,8,3,1,4,9,7,5,2],[1,4,8,5,2,6,9,3,7],[7,3,2,4,9,1,5,8,6],[5,6,9,8,7,3,2,4,1]]\n",
    "G2=[[8,9,1,2,3,4,6,7,5],[3,2,5,6,8,7,4,1,9],[4,7,6,9,1,5,3,2,8],[9,1,4,7,5,2,8,6,3],[2,5,7,3,6,8,1,9,4],[6,8,3,1,4,9,7,5,2],[1,4,8,5,2,6,9,3,7],[7,3,2,4,9,1,5,8,6],[1,6,9,8,7,3,2,4,5]]\n",
    "G3=[[1,9,3,2,4,8,6,7,5],[3,2,1,5,6,7,8,4,9],[2,7,4,9,1,5,3,6,8],[4,1,2,3,8,9,7,5,6],[5,6,7,8,3,2,1,9,4],[6,8,5,7,2,4,9,1,3],[9,4,8,1,5,6,2,3,7],[7,3,6,4,9,1,5,8,2],[8,5,9,6,7,3,4,2,1]]\n",
    "G4=[[8,9,1,2,3,4,6,7,5],[3,2,5,6,8,7,4,1,9],[4,7,6,9,1,5,3,2,8],[9,1,4,7,5,2,8,6,3],[2,5,7,3,6,8,1,9,4],[6,8,3,1,4,9,7,5,2],[1,4,8,5,2,6,9,3,7],[7,3,2,4,9,1,5,8,6],[5,6,9,8,7,3,2,4,1]]\n",
    "G5=[[8,9,1,2,3,4,6,7,5],[3,2,5,6,8,7,4,1,9],[4,7,6,9,1,5,3,2,8],[9,1,4,7,5,2,8,6,3],[2,5,7,3,6,8,1,9,4],[6,8,3,1,4,9,7,5,2],[1,4,8,5,2,6,9,3,7],[7,2,3,4,9,1,5,8,6],[5,6,9,8,7,3,2,4,1]]"
   ]
  },
  {
   "cell_type": "markdown",
   "metadata": {},
   "source": [
    "On se propose de vérifier si ces grilles sont justes.\n",
    "\n",
    "Pour cela il faut vérifier les lignes, les colonnes et les blocs.\n",
    "\n",
    "La fonction <code>sorted</code> permet de trier des nombres dans une liste, par exemple <code>sorted([4,7,3])</code> donne <code>[3, 4, 7]</code>"
   ]
  },
  {
   "cell_type": "markdown",
   "metadata": {},
   "source": [
    "<q></q>Écrire par compréhension la liste des chiffres de 1 à 9"
   ]
  },
  {
   "cell_type": "code",
   "execution_count": 2,
   "metadata": {},
   "outputs": [],
   "source": [
    "# écrire votre code ici"
   ]
  },
  {
   "cell_type": "markdown",
   "metadata": {},
   "source": [
    "<q></q>Écrire une fonction qui prend en argument une liste quelconque (donc non triée) et qui renvoie un booléen qui est vrai si la liste contient exactement les nombres de 1 à 9."
   ]
  },
  {
   "cell_type": "code",
   "execution_count": 3,
   "metadata": {},
   "outputs": [],
   "source": [
    "# écrire votre code ici"
   ]
  },
  {
   "cell_type": "markdown",
   "metadata": {},
   "source": [
    "<q></q>Écrire une fonction <code>verifie_lignes</code> qui prend en argument une matrice et qui renvoie un booléen qui est vrai si toutes les lignes de la matrice sont justes. Si une ligne est fausse, afficher son numéro (de 0 à 8)"
   ]
  },
  {
   "cell_type": "code",
   "execution_count": 4,
   "metadata": {},
   "outputs": [],
   "source": [
    "# écrire votre code ici"
   ]
  },
  {
   "cell_type": "markdown",
   "metadata": {},
   "source": [
    "<q></q>Tester votre fonction <code>verifie_lignes</code> sur les grilles G1 à G5. Conclure avec une phrase en disant quelles grilles ont des lignes correctes."
   ]
  },
  {
   "cell_type": "code",
   "execution_count": 5,
   "metadata": {},
   "outputs": [],
   "source": [
    "# écrire votre code ici"
   ]
  },
  {
   "cell_type": "markdown",
   "metadata": {},
   "source": [
    "<q></q>Écrire une fonction qui prend en argument une matrice M et un indice i et qui renvoie la liste colonne d'indice i de la matrice M."
   ]
  },
  {
   "cell_type": "code",
   "execution_count": 6,
   "metadata": {},
   "outputs": [],
   "source": [
    "# écrire votre code ici"
   ]
  },
  {
   "cell_type": "markdown",
   "metadata": {},
   "source": [
    "<q></q>Écrire une fonction <code>verifie_colonnes</code> qui prend en argument une matrice et qui renvoie un booléen qui est vrai si toutes les colonnes de la matrice sont justes. Si une colonne est fausse, afficher son numéro (de 0 à 8)"
   ]
  },
  {
   "cell_type": "code",
   "execution_count": 7,
   "metadata": {},
   "outputs": [],
   "source": [
    "# écrire votre code ici"
   ]
  },
  {
   "cell_type": "markdown",
   "metadata": {},
   "source": [
    "<q></q>Tester votre fonction <code>verifie_colonnes</code> sur les grilles G1 à G5. Conclure avec une phrase en disant quelles grilles ont des colonnes correctes."
   ]
  },
  {
   "cell_type": "code",
   "execution_count": 8,
   "metadata": {},
   "outputs": [],
   "source": [
    "# écrire votre code ici"
   ]
  },
  {
   "cell_type": "markdown",
   "metadata": {},
   "source": [
    "\n",
    "<span class=encadre > \n",
    "On va définir la position des blocs de la façon suivante : le bloc en position (i,j) est le bloc de ligne i et de colonne j.\n",
    "<br/>\n",
    "Par exemple le bloc en position (0,0) est le bloc situé en haut à gauche, le bloc en position (2,2) est le bloc situé en bas à droite.\n",
    "</span>\n",
    "\n",
    "\n",
    "<q></q>Écrire une fonction <code>bloc(i,j)</code> qui renvoie la liste des 9 chiffres présents dans le bloc en position (i,j)"
   ]
  },
  {
   "cell_type": "code",
   "execution_count": 9,
   "metadata": {},
   "outputs": [],
   "source": [
    "# écrire votre code ici"
   ]
  },
  {
   "cell_type": "markdown",
   "metadata": {},
   "source": [
    "<q></q>Écrire une fonction <code>verifie_blocs</code> qui prend en argument une matrice et qui renvoie un booléen qui est vrai si tous les blocs de la matrice sont justes.  Si un bloc est faux, afficher sa position (i,j)"
   ]
  },
  {
   "cell_type": "code",
   "execution_count": 10,
   "metadata": {},
   "outputs": [],
   "source": [
    "# écrire votre code ici"
   ]
  },
  {
   "cell_type": "markdown",
   "metadata": {},
   "source": [
    "<q></q>Tester votre fonction <code>verifie_blocs</code> sur les grilles G1 à G5. Conclure avec une phrase en disant quelles grilles ont des colonnes correctes."
   ]
  },
  {
   "cell_type": "code",
   "execution_count": 11,
   "metadata": {},
   "outputs": [],
   "source": [
    "# écrire votre code ici"
   ]
  },
  {
   "cell_type": "markdown",
   "metadata": {},
   "source": [
    "<q></q>Compléter le tableau avec 1 si tout est juste et avec 0 si tout est faux :\n",
    "\n",
    "|grille|1|2|3|4|5|\n",
    "|:-:|:-:|:-:|:-:|:-:|:-:|\n",
    "|lignes|||||\n",
    "|colonnes|||||\n",
    "|blocs|||||\n",
    "|SUDOKU|||||"
   ]
  },
  {
   "cell_type": "markdown",
   "metadata": {},
   "source": [
    "<q></q>Écrire une fonction <code>verifie_Sudoku</code> qui prend en argument une matrice et qui renvoie un booléen qui est vrai si toutes les lignes, toutes les colonnes et tous les blocs de la matrice sont justes."
   ]
  },
  {
   "cell_type": "code",
   "execution_count": 12,
   "metadata": {},
   "outputs": [],
   "source": [
    "# écrire votre code ici"
   ]
  },
  {
   "cell_type": "markdown",
   "metadata": {},
   "source": [
    "<q></q>Tester votre fonction <code>verifie_Sudoku</code> sur les grilles G1 à G5. Conclure avec une phrase en disant quelles grilles sont correctes."
   ]
  },
  {
   "cell_type": "code",
   "execution_count": 13,
   "metadata": {},
   "outputs": [],
   "source": [
    "# écrire votre code ici"
   ]
  },
  {
   "cell_type": "markdown",
   "metadata": {},
   "source": [
    "<div class=titre2 style=margin-top:200px >Annexes</div>"
   ]
  },
  {
   "cell_type": "code",
   "execution_count": 14,
   "metadata": {},
   "outputs": [
    {
     "data": {
      "text/html": [
       "<style>\n",
       "    #site , .p-DockPanel {background-color:#FE9;}\n",
       "    #notebook-container , .jp-Notebook {\n",
       "        background-color:#ED8;\n",
       "        }\n",
       "    .titre1 {\n",
       "        color:#BA5;\n",
       "        font-size:64px;\n",
       "        font-family:verdana;\n",
       "        margin:32px;\n",
       "        font-weight:bold;\n",
       "        text-align:center;\n",
       "    }\n",
       "    .titre2 {\n",
       "        color:#983;\n",
       "        font-size:32px;\n",
       "        font-family:arial;\n",
       "        margin:24px;\n",
       "    }\n",
       "    p {\n",
       "        color:#761;\n",
       "    }\n",
       "    img {\n",
       "        display:inline-block !important;\n",
       "    }\n",
       "    \n",
       "    .encadre {\n",
       "        display:inline-block; \n",
       "        background-color:#FE9;\n",
       "        border: solid 1px #761;\n",
       "        color: #761;\n",
       "        padding: 10px;\n",
       "    }\n",
       "    \n",
       "    body {\n",
       "         counter-reset: questions exercices;\n",
       "    }\n",
       "    q:before {\n",
       "      content: \"Question \" counter(questions) \".\";\n",
       "      counter-increment: questions;\n",
       "    }\n",
       "\n",
       "    q {\n",
       "        color:#82A;\n",
       "        font-family: arial;\n",
       "        margin:10px;\n",
       "        font-weight: 600;\n",
       "        display: inline-block;\n",
       "        font-size: 14px;\n",
       "        text-shadow: 1px 1px 3px #82A;\n",
       "    }\n",
       "    table,tr,td,th {\n",
       "        border: solid 1px #761 !important;\n",
       "    }\n",
       "    tr{\n",
       "        background-color:#FE9;\n",
       "    }\n",
       "</style>\n"
      ],
      "text/plain": [
       "<IPython.core.display.HTML object>"
      ]
     },
     "metadata": {},
     "output_type": "display_data"
    }
   ],
   "source": [
    "%%html\n",
    "<style>\n",
    "    #site , .p-DockPanel {background-color:#FE9;}\n",
    "    #notebook-container , .jp-Notebook {\n",
    "        background-color:#ED8;\n",
    "        }\n",
    "    .titre1 {\n",
    "        color:#BA5;\n",
    "        font-size:64px;\n",
    "        font-family:verdana;\n",
    "        margin:32px;\n",
    "        font-weight:bold;\n",
    "        text-align:center;\n",
    "    }\n",
    "    .titre2 {\n",
    "        color:#983;\n",
    "        font-size:32px;\n",
    "        font-family:arial;\n",
    "        margin:24px;\n",
    "    }\n",
    "    p {\n",
    "        color:#761;\n",
    "    }\n",
    "    img {\n",
    "        display:inline-block !important;\n",
    "    }\n",
    "    \n",
    "    .encadre {\n",
    "        display:inline-block; \n",
    "        background-color:#FE9;\n",
    "        border: solid 1px #761;\n",
    "        color: #761;\n",
    "        padding: 10px;\n",
    "    }\n",
    "    \n",
    "    body {\n",
    "         counter-reset: questions exercices;\n",
    "    }\n",
    "    q:before {\n",
    "      content: \"Question \" counter(questions) \".\";\n",
    "      counter-increment: questions;\n",
    "    }\n",
    "\n",
    "    q {\n",
    "        color:#82A;\n",
    "        font-family: arial;\n",
    "        margin:10px;\n",
    "        font-weight: 600;\n",
    "        display: inline-block;\n",
    "        font-size: 14px;\n",
    "        text-shadow: 1px 1px 3px #82A;\n",
    "    }\n",
    "    table,tr,td,th {\n",
    "        border: solid 1px #761 !important;\n",
    "    }\n",
    "    tr{\n",
    "        background-color:#FE9;\n",
    "    }\n",
    "</style>"
   ]
  },
  {
   "cell_type": "code",
   "execution_count": 15,
   "metadata": {},
   "outputs": [
    {
     "data": {
      "application/javascript": [
       "\n",
       "function repeter(){\n",
       "IPython.notebook.kernel.execute(\"a=1\");\n",
       "}\n",
       "// execute a = 1 en python toutes les 8 minutes pendant 2h\n",
       "let timerId = setInterval(() => repeter(), 480000);\n"
      ],
      "text/plain": [
       "<IPython.core.display.Javascript object>"
      ]
     },
     "metadata": {},
     "output_type": "display_data"
    }
   ],
   "source": [
    "%%javascript\n",
    "\n",
    "function repeter(){\n",
    "IPython.notebook.kernel.execute(\"a=1\");\n",
    "}\n",
    "// execute a = 1 en python toutes les 8 minutes pendant 2h\n",
    "let timerId = setInterval(() => repeter(), 480000);"
   ]
  }
 ],
 "metadata": {
  "kernelspec": {
   "display_name": "Python 3",
   "language": "python",
   "name": "python3"
  },
  "language_info": {
   "codemirror_mode": {
    "name": "ipython",
    "version": 3
   },
   "file_extension": ".py",
   "mimetype": "text/x-python",
   "name": "python",
   "nbconvert_exporter": "python",
   "pygments_lexer": "ipython3",
   "version": "3.8.5"
  }
 },
 "nbformat": 4,
 "nbformat_minor": 4
}
