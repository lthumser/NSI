{
 "cells": [
  {
   "cell_type": "markdown",
   "metadata": {},
   "source": [
    "<div class=titre1 >SUDOKU</div>\n",
    "\n",
    "<div style=display:flex >\n",
    "<img title=\"Maki Kaji, qui a polularisé le Sudoku\" src=https://img.20mn.fr/BTEPUn9lSwygIjEw15mLJSk/768x492_maki-kaji-devant-grilles-sudoku-2012.jpg style=\"height:246px\" />\n",
    "    <img title=\"Leonhard Euler\" src=\"https://upload.wikimedia.org/wikipedia/commons/6/60/Leonhard_Euler_2.jpg\"  style=\"height:246px\" >\n",
    "    <img title=\"SATOR\" src=https://upload.wikimedia.org/wikipedia/commons/thumb/7/71/Sator_Square_at_Opp%C3%A8de.jpg/330px-Sator_Square_at_Opp%C3%A8de.jpg  style=\"height:246px\" >\n",
    "    </div>"
   ]
  },
  {
   "cell_type": "markdown",
   "metadata": {},
   "source": [
    "Le Sudoku (chiffre simple en japonais) a été popularisé par le japonais Maki Kaji et s'inspire du «carré latin» du mathématicien du 18<sup>e</sup> siècle Leonhard Euler, où les symboles n'apparaissent qu'une fois par ligne et par colonne.\n",
    "On peut supposer qu'Euler a été inspiré par l'énigme du carré latin SATOR.\n",
    "\n",
    "\n",
    "<div style=\"display:flex; \"><span><br><br><span class=encadre style=\"width:400px;\"><u>Règle du SUDOKU :</u><br/><br/>Le joueur doit trouver par déduction les chiffres manquants (toujours de un à neuf) en se basant sur le principe qu'aucun ne doit se répéter dans la même ligne, colonne ou bloc (petit carré).</span></span><img src=\"http://tadkozh.free.fr/sudokus/sudoku1.gif\" width=200 /></div>"
   ]
  },
  {
   "cell_type": "markdown",
   "metadata": {},
   "source": [
    "<div class=titre2 >Vérifier un SUDOKU</div>"
   ]
  },
  {
   "cell_type": "markdown",
   "metadata": {},
   "source": [
    "Une grille de Sudoku peut s'écrire sous forme de matrice, par exemple voici 4 grilles de Sudoku terminés :"
   ]
  },
  {
   "cell_type": "code",
   "execution_count": null,
   "metadata": {},
   "outputs": [],
   "source": [
    "G1=[[8,9,1,2,3,4,6,7,5],[3,2,5,6,8,7,4,1,9],[4,7,6,9,1,5,3,2,8],[9,1,4,7,5,2,8,6,3],[2,5,7,3,6,8,1,9,5],[6,8,3,1,4,9,7,5,2],[1,4,8,5,2,6,9,3,7],[7,3,2,4,9,1,5,8,6],[5,6,9,8,7,3,2,4,1]]\n",
    "G2=[[8,9,1,2,3,4,6,7,5],[3,2,5,6,8,7,4,1,9],[4,7,6,9,1,5,3,2,8],[9,1,4,7,5,2,8,6,3],[2,5,7,3,6,8,1,9,4],[6,8,3,1,4,9,7,5,2],[1,4,8,5,2,6,9,3,7],[7,3,2,4,9,1,5,8,6],[1,6,9,8,7,3,2,4,5]]\n",
    "G3=[[1,9,3,2,4,8,6,7,5],[3,2,1,5,6,7,8,4,9],[2,7,4,9,1,5,3,6,8],[4,1,2,3,8,9,7,5,6],[5,6,7,8,3,2,1,9,4],[6,8,5,7,2,4,9,1,3],[9,4,8,1,5,6,2,3,7],[7,3,6,4,9,1,5,8,2],[8,5,9,6,7,3,4,2,1]]\n",
    "G4=[[8,9,1,2,3,4,6,7,5],[3,2,5,6,8,7,4,1,9],[4,7,6,9,1,5,3,2,8],[9,1,4,7,5,2,8,6,3],[2,5,7,3,6,8,1,9,4],[6,8,3,1,4,9,7,5,2],[1,4,8,5,2,6,9,3,7],[7,3,2,4,9,1,5,8,6],[5,6,9,8,7,3,2,4,1]]"
   ]
  },
  {
   "cell_type": "markdown",
   "metadata": {},
   "source": [
    "On se propose de vérifier si ces grilles sont justes.\n",
    "\n",
    "Pour cela il faut vérifier les lignes, les colonnes et les blocs.\n",
    "\n",
    "La fonction <code>sorted</code> permet de trier des nombres dans une liste, par exemple <code>sorted([4,7,3])</code> donne <code>[3, 4, 7]</code>"
   ]
  },
  {
   "cell_type": "markdown",
   "metadata": {},
   "source": [
    "<q></q>Écrire par compréhension la liste des chiffres de 1 à 9"
   ]
  },
  {
   "cell_type": "code",
   "execution_count": null,
   "metadata": {},
   "outputs": [],
   "source": [
    "# écrire votre code ici"
   ]
  },
  {
   "cell_type": "markdown",
   "metadata": {},
   "source": [
    "<q></q>Écrire une fonction qui prend en argument une liste quelconque (donc non triée) et qui renvoie un booléen qui est vrai si la liste contient exactement les nombres de 1 à 9."
   ]
  },
  {
   "cell_type": "code",
   "execution_count": 24,
   "metadata": {},
   "outputs": [],
   "source": [
    "# écrire votre code ici"
   ]
  },
  {
   "cell_type": "markdown",
   "metadata": {},
   "source": [
    "<q></q>Écrire une fonction <code>verifie_lignes</code> qui prend en argument une matrice et qui renvoie un booléen qui est vrai si toutes les lignes de la matrice sont justes."
   ]
  },
  {
   "cell_type": "code",
   "execution_count": 24,
   "metadata": {},
   "outputs": [],
   "source": [
    "# écrire votre code ici"
   ]
  },
  {
   "cell_type": "markdown",
   "metadata": {},
   "source": [
    "<q></q>Tester votre fonction <code>verifie_lignes</code> sur les grilles G1 à G4. Conclure avec une phrase en disant quelles grilles ont des lignes correctes."
   ]
  },
  {
   "cell_type": "code",
   "execution_count": 24,
   "metadata": {},
   "outputs": [],
   "source": [
    "# écrire votre code ici"
   ]
  },
  {
   "cell_type": "markdown",
   "metadata": {},
   "source": [
    "<q></q>Écrire une fonction qui prend en argument une matrice M et un indice i et qui renvoie la liste colonne d'indice i de la matrice M."
   ]
  },
  {
   "cell_type": "code",
   "execution_count": 24,
   "metadata": {},
   "outputs": [],
   "source": [
    "# écrire votre code ici"
   ]
  },
  {
   "cell_type": "markdown",
   "metadata": {},
   "source": [
    "<q></q>Écrire une fonction <code>verifie_colonnes</code> qui prend en argument une matrice et qui renvoie un booléen qui est vrai si toutes les colonnes de la matrice sont justes."
   ]
  },
  {
   "cell_type": "code",
   "execution_count": 24,
   "metadata": {},
   "outputs": [],
   "source": [
    "# écrire votre code ici"
   ]
  },
  {
   "cell_type": "markdown",
   "metadata": {},
   "source": [
    "<q></q>Tester votre fonction <code>verifie_colonnes</code> sur les grilles G1 à G4. Conclure avec une phrase en disant quelles grilles ont des colonnes correctes."
   ]
  },
  {
   "cell_type": "code",
   "execution_count": 24,
   "metadata": {},
   "outputs": [],
   "source": [
    "# écrire votre code ici"
   ]
  },
  {
   "cell_type": "markdown",
   "metadata": {},
   "source": [
    "\n",
    "<span class=encadre > \n",
    "On va définir la position des blocs de la façon suivante : le bloc en position (i,j) est le bloc de ligne i et de colonne j.\n",
    "<br/>\n",
    "Par exemple le bloc en position (0,0) est le bloc situé en haut à gauche, le bloc en position (2,2) est le bloc situé en bas à droite.\n",
    "</span>\n",
    "\n",
    "\n",
    "<q></q>Écrire une fonction <code>bloc(i,j)</code> qui renvoie la liste des 9 chiffres présents dans le bloc en position (i,j)"
   ]
  },
  {
   "cell_type": "code",
   "execution_count": null,
   "metadata": {},
   "outputs": [],
   "source": [
    "# écrire votre code ici"
   ]
  },
  {
   "cell_type": "markdown",
   "metadata": {},
   "source": [
    "<q></q>Écrire une fonction <code>verifie_blocs</code> qui prend en argument une matrice et qui renvoie un booléen qui est vrai si tous les blocs de la matrice sont justes."
   ]
  },
  {
   "cell_type": "code",
   "execution_count": null,
   "metadata": {},
   "outputs": [],
   "source": [
    "# écrire votre code ici"
   ]
  },
  {
   "cell_type": "markdown",
   "metadata": {},
   "source": [
    "<q></q>Tester votre fonction <code>verifie_blocs</code> sur les grilles G1 à G4. Conclure avec une phrase en disant quelles grilles ont des colonnes correctes."
   ]
  },
  {
   "cell_type": "code",
   "execution_count": null,
   "metadata": {},
   "outputs": [],
   "source": [
    "# écrire votre code ici"
   ]
  },
  {
   "cell_type": "markdown",
   "metadata": {},
   "source": [
    "<q></q>Écrire une fonction <code>verifie_Sudoku</code> qui prend en argument une matrice et qui renvoie un booléen qui est vrai si toutes les lignes, toutes les colonnes et tous les blocs de la matrice sont justes."
   ]
  },
  {
   "cell_type": "code",
   "execution_count": null,
   "metadata": {},
   "outputs": [],
   "source": [
    "# écrire votre code ici"
   ]
  },
  {
   "cell_type": "markdown",
   "metadata": {},
   "source": [
    "<q></q>Tester votre fonction <code>verifie_Sudoku</code> sur les grilles G1 à G4. Conclure avec une phrase en disant quelles grilles ont des colonnes correctes."
   ]
  },
  {
   "cell_type": "code",
   "execution_count": null,
   "metadata": {},
   "outputs": [],
   "source": [
    "# écrire votre code ici"
   ]
  },
  {
   "cell_type": "markdown",
   "metadata": {},
   "source": [
    "<div class=titre2 style=margin-top:200px >Annexes</div>"
   ]
  },
  {
   "cell_type": "code",
   "execution_count": 35,
   "metadata": {},
   "outputs": [
    {
     "data": {
      "text/html": [
       "<style>\n",
       "    #site , .p-DockPanel {background-color:#FE9;}\n",
       "    #notebook-container , .jp-Notebook {\n",
       "        background-color:#ED8;\n",
       "        }\n",
       "    .titre1 {\n",
       "        color:#BA5;\n",
       "        font-size:64px;\n",
       "        font-family:verdana;\n",
       "        margin:32px;\n",
       "        font-weight:bold;\n",
       "        text-align:center;\n",
       "    }\n",
       "    .titre2 {\n",
       "        color:#983;\n",
       "        font-size:32px;\n",
       "        font-family:arial;\n",
       "        margin:24px;\n",
       "    }\n",
       "    p {\n",
       "        color:#761;\n",
       "    }\n",
       "    img {\n",
       "        display:inline-block !important;\n",
       "    }\n",
       "    \n",
       "    .encadre {\n",
       "        display:inline-block; \n",
       "        background-color:#FE9;\n",
       "        border: solid 1px #761;\n",
       "        color: #761;\n",
       "        padding: 10px;\n",
       "    }\n",
       "    \n",
       "    body {\n",
       "         counter-reset: questions exercices;\n",
       "    }\n",
       "    q:before {\n",
       "      content: \"Question \" counter(questions) \".\";\n",
       "      counter-increment: questions;\n",
       "    }\n",
       "\n",
       "    q {\n",
       "        color:#82A;\n",
       "        font-family: arial;\n",
       "        margin:10px;\n",
       "        font-weight: 600;\n",
       "        display: inline-block;\n",
       "        font-size: 14px;\n",
       "        text-shadow: 1px 1px 3px #82A;\n",
       "    }\n",
       "</style>\n"
      ],
      "text/plain": [
       "<IPython.core.display.HTML object>"
      ]
     },
     "metadata": {},
     "output_type": "display_data"
    }
   ],
   "source": [
    "%%html\n",
    "<style>\n",
    "    #site , .p-DockPanel {background-color:#FE9;}\n",
    "    #notebook-container , .jp-Notebook {\n",
    "        background-color:#ED8;\n",
    "        }\n",
    "    .titre1 {\n",
    "        color:#BA5;\n",
    "        font-size:64px;\n",
    "        font-family:verdana;\n",
    "        margin:32px;\n",
    "        font-weight:bold;\n",
    "        text-align:center;\n",
    "    }\n",
    "    .titre2 {\n",
    "        color:#983;\n",
    "        font-size:32px;\n",
    "        font-family:arial;\n",
    "        margin:24px;\n",
    "    }\n",
    "    p {\n",
    "        color:#761;\n",
    "    }\n",
    "    img {\n",
    "        display:inline-block !important;\n",
    "    }\n",
    "    \n",
    "    .encadre {\n",
    "        display:inline-block; \n",
    "        background-color:#FE9;\n",
    "        border: solid 1px #761;\n",
    "        color: #761;\n",
    "        padding: 10px;\n",
    "    }\n",
    "    \n",
    "    body {\n",
    "         counter-reset: questions exercices;\n",
    "    }\n",
    "    q:before {\n",
    "      content: \"Question \" counter(questions) \".\";\n",
    "      counter-increment: questions;\n",
    "    }\n",
    "\n",
    "    q {\n",
    "        color:#82A;\n",
    "        font-family: arial;\n",
    "        margin:10px;\n",
    "        font-weight: 600;\n",
    "        display: inline-block;\n",
    "        font-size: 14px;\n",
    "        text-shadow: 1px 1px 3px #82A;\n",
    "    }\n",
    "</style>"
   ]
  },
  {
   "cell_type": "code",
   "execution_count": 3,
   "metadata": {},
   "outputs": [
    {
     "data": {
      "application/javascript": [
       "\n",
       "function repeter(){\n",
       "IPython.notebook.kernel.execute(\"a=1\");\n",
       "}\n",
       "// execute a = 1 en python toutes les 8 minutes pendant 2h\n",
       "let timerId = setInterval(() => repeter(), 480000);\n"
      ],
      "text/plain": [
       "<IPython.core.display.Javascript object>"
      ]
     },
     "metadata": {},
     "output_type": "display_data"
    }
   ],
   "source": [
    "%%javascript\n",
    "\n",
    "function repeter(){\n",
    "IPython.notebook.kernel.execute(\"a=1\");\n",
    "}\n",
    "// execute a = 1 en python toutes les 8 minutes pendant 2h\n",
    "let timerId = setInterval(() => repeter(), 480000);"
   ]
  }
 ],
 "metadata": {
  "kernelspec": {
   "display_name": "Python 3",
   "language": "python",
   "name": "python3"
  },
  "language_info": {
   "codemirror_mode": {
    "name": "ipython",
    "version": 3
   },
   "file_extension": ".py",
   "mimetype": "text/x-python",
   "name": "python",
   "nbconvert_exporter": "python",
   "pygments_lexer": "ipython3",
   "version": "3.8.5"
  }
 },
 "nbformat": 4,
 "nbformat_minor": 4
}
